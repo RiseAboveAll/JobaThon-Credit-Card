{
 "cells": [
  {
   "cell_type": "code",
   "execution_count": 28,
   "id": "d9cb3e4c",
   "metadata": {},
   "outputs": [],
   "source": [
    "import pandas as pd\n",
    "import numpy as np\n",
    "import matplotlib.pyplot as plt\n",
    "import seaborn as sns\n",
    "from imblearn.over_sampling import SMOTE\n",
    "from sklearn.model_selection import train_test_split as tts\n",
    "from sklearn.model_selection import cross_val_score\n",
    "from sklearn.preprocessing import Normalizer,StandardScaler\n",
    "from cvgbm import run_gbm\n",
    "from sklearn.model_selection import KFold, StratifiedKFold\n",
    "from sklearn.model_selection import RepeatedStratifiedKFold\n",
    "\n",
    "from sklearn.tree import DecisionTreeClassifier as DTC\n",
    "from sklearn.ensemble import StackingClassifier\n",
    "from sklearn.metrics import classification_report,roc_auc_score\n",
    "\n",
    "from xgboost import XGBClassifier as xgbc\n",
    "from lightgbm import LGBMClassifier\n",
    "import lightgbm as lgb\n",
    "import h5py\n",
    "import time"
   ]
  },
  {
   "cell_type": "code",
   "execution_count": 3,
   "id": "065edcea",
   "metadata": {},
   "outputs": [],
   "source": [
    "import warnings\n",
    "warnings.filterwarnings('ignore')\n",
    "pd.set_option('display.max_columns',500)"
   ]
  },
  {
   "cell_type": "code",
   "execution_count": 4,
   "id": "5afe5d85",
   "metadata": {},
   "outputs": [],
   "source": [
    "train=pd.read_csv('Ftrain.csv')\n",
    "test=pd.read_csv('Ftest.csv')"
   ]
  },
  {
   "cell_type": "code",
   "execution_count": 5,
   "id": "f076fb58",
   "metadata": {},
   "outputs": [
    {
     "data": {
      "text/plain": [
       "pandas.core.frame.DataFrame"
      ]
     },
     "execution_count": 5,
     "metadata": {},
     "output_type": "execute_result"
    }
   ],
   "source": [
    "type(train)"
   ]
  },
  {
   "cell_type": "code",
   "execution_count": 6,
   "id": "14b93fe3",
   "metadata": {},
   "outputs": [],
   "source": [
    "target=train['Is_Lead'].astype(int)\n",
    "train=train.drop('Is_Lead',axis=1)"
   ]
  },
  {
   "cell_type": "code",
   "execution_count": 7,
   "id": "2a70b60c",
   "metadata": {},
   "outputs": [],
   "source": [
    "features=train.columns.values"
   ]
  },
  {
   "cell_type": "code",
   "execution_count": 8,
   "id": "4638646c",
   "metadata": {},
   "outputs": [],
   "source": [
    "oversample=SMOTE(sampling_strategy=.55)\n",
    "X,y=oversample.fit_resample(train,target)"
   ]
  },
  {
   "cell_type": "code",
   "execution_count": 9,
   "id": "fa7db207",
   "metadata": {},
   "outputs": [],
   "source": [
    "num_cols=[ 'Vintage','Avg_Account_Balance','Re_Entrepreneur_Sum', 'Re_Salaried_Sum', 'Re_Self_Employed_Sum',\n",
    "       'Re_Other_Sum', 'Re_Credit_Product_Sum', 'Re_Vintage_Avg',\n",
    "       'Re_Vintage_skew', 'Re_Channel_X1_Sum', 'Re_Channel_X2_Sum',\n",
    "       'Re_Channel_X3_Sum', 'Re_Channel_X4_Sum', 'Re_Mid_Age_Sum',\n",
    "       'Re_Young_Sum', 'Re_Old_Sum', 'Re_Active', 'Re_Balance_Avg',\n",
    "       'Re_Balance_skew', 'Re_Balance_std', 'Re_Balance_top',\n",
    "       'Re_Balance_bottom', 'Balance_to_Age', 'Vintage_to_Age']"
   ]
  },
  {
   "cell_type": "code",
   "execution_count": 38,
   "id": "23c79f1f",
   "metadata": {},
   "outputs": [
    {
     "name": "stdout",
     "output_type": "stream",
     "text": [
      "------------------------------------Fold1------------------------------------\n",
      "[0]\tvalidation_0-logloss:0.68471\tvalidation_0-auc:0.84571\tvalidation_1-logloss:0.68465\tvalidation_1-auc:0.84611\n",
      "[500]\tvalidation_0-logloss:0.39020\tvalidation_0-auc:0.90543\tvalidation_1-logloss:0.38941\tvalidation_1-auc:0.90425\n",
      "[1000]\tvalidation_0-logloss:0.36979\tvalidation_0-auc:0.91385\tvalidation_1-logloss:0.37167\tvalidation_1-auc:0.91082\n",
      "[1500]\tvalidation_0-logloss:0.36142\tvalidation_0-auc:0.91758\tvalidation_1-logloss:0.36541\tvalidation_1-auc:0.91306\n",
      "[2000]\tvalidation_0-logloss:0.35578\tvalidation_0-auc:0.92035\tvalidation_1-logloss:0.36178\tvalidation_1-auc:0.91448\n",
      "[2500]\tvalidation_0-logloss:0.35088\tvalidation_0-auc:0.92286\tvalidation_1-logloss:0.35885\tvalidation_1-auc:0.91557\n",
      "[2713]\tvalidation_0-logloss:0.34974\tvalidation_0-auc:0.92353\tvalidation_1-logloss:0.35829\tvalidation_1-auc:0.91579\n",
      "ROC score for Fold 1 Validation :0.9157386365727906 \n",
      "ROC score for Validation :0.9131392876356051 \n",
      "------------------------------------Fold2------------------------------------\n",
      "[0]\tvalidation_0-logloss:0.68473\tvalidation_0-auc:0.84535\tvalidation_1-logloss:0.68463\tvalidation_1-auc:0.84931\n",
      "[500]\tvalidation_0-logloss:0.39097\tvalidation_0-auc:0.90561\tvalidation_1-logloss:0.39095\tvalidation_1-auc:0.90333\n",
      "[1000]\tvalidation_0-logloss:0.37037\tvalidation_0-auc:0.91390\tvalidation_1-logloss:0.37383\tvalidation_1-auc:0.90887\n",
      "[1500]\tvalidation_0-logloss:0.36229\tvalidation_0-auc:0.91731\tvalidation_1-logloss:0.36791\tvalidation_1-auc:0.91082\n",
      "[2000]\tvalidation_0-logloss:0.35652\tvalidation_0-auc:0.92010\tvalidation_1-logloss:0.36405\tvalidation_1-auc:0.91230\n",
      "[2500]\tvalidation_0-logloss:0.35200\tvalidation_0-auc:0.92238\tvalidation_1-logloss:0.36134\tvalidation_1-auc:0.91334\n",
      "[2713]\tvalidation_0-logloss:0.35013\tvalidation_0-auc:0.92333\tvalidation_1-logloss:0.36020\tvalidation_1-auc:0.91381\n",
      "ROC score for Fold 2 Validation :0.9137655098584347 \n",
      "ROC score for Validation :0.9132571738931312 \n",
      "------------------------------------Fold3------------------------------------\n",
      "[0]\tvalidation_0-logloss:0.68470\tvalidation_0-auc:0.84618\tvalidation_1-logloss:0.68480\tvalidation_1-auc:0.84195\n",
      "[500]\tvalidation_0-logloss:0.38939\tvalidation_0-auc:0.90616\tvalidation_1-logloss:0.39525\tvalidation_1-auc:0.90072\n",
      "[1000]\tvalidation_0-logloss:0.36926\tvalidation_0-auc:0.91408\tvalidation_1-logloss:0.37744\tvalidation_1-auc:0.90768\n",
      "[1500]\tvalidation_0-logloss:0.36120\tvalidation_0-auc:0.91760\tvalidation_1-logloss:0.37151\tvalidation_1-auc:0.90974\n",
      "[2000]\tvalidation_0-logloss:0.35547\tvalidation_0-auc:0.92044\tvalidation_1-logloss:0.36759\tvalidation_1-auc:0.91141\n",
      "[2500]\tvalidation_0-logloss:0.35130\tvalidation_0-auc:0.92257\tvalidation_1-logloss:0.36518\tvalidation_1-auc:0.91231\n",
      "[2713]\tvalidation_0-logloss:0.34974\tvalidation_0-auc:0.92344\tvalidation_1-logloss:0.36431\tvalidation_1-auc:0.91267\n",
      "ROC score for Fold 3 Validation :0.9126223915891732 \n",
      "ROC score for Validation :0.9126061896155131 \n",
      "------------------------------------Fold4------------------------------------\n",
      "[0]\tvalidation_0-logloss:0.68472\tvalidation_0-auc:0.84546\tvalidation_1-logloss:0.68464\tvalidation_1-auc:0.84834\n",
      "[500]\tvalidation_0-logloss:0.39056\tvalidation_0-auc:0.90545\tvalidation_1-logloss:0.39258\tvalidation_1-auc:0.90293\n",
      "[1000]\tvalidation_0-logloss:0.37026\tvalidation_0-auc:0.91380\tvalidation_1-logloss:0.37531\tvalidation_1-auc:0.90937\n",
      "[1500]\tvalidation_0-logloss:0.36193\tvalidation_0-auc:0.91752\tvalidation_1-logloss:0.36904\tvalidation_1-auc:0.91196\n",
      "[2000]\tvalidation_0-logloss:0.35638\tvalidation_0-auc:0.92014\tvalidation_1-logloss:0.36523\tvalidation_1-auc:0.91346\n",
      "[2500]\tvalidation_0-logloss:0.35183\tvalidation_0-auc:0.92239\tvalidation_1-logloss:0.36224\tvalidation_1-auc:0.91469\n",
      "[2713]\tvalidation_0-logloss:0.35008\tvalidation_0-auc:0.92332\tvalidation_1-logloss:0.36120\tvalidation_1-auc:0.91508\n",
      "ROC score for Fold 4 Validation :0.915031930463682 \n",
      "ROC score for Validation :0.9131720095931428 \n",
      "------------------------------------Fold5------------------------------------\n",
      "[0]\tvalidation_0-logloss:0.68471\tvalidation_0-auc:0.84568\tvalidation_1-logloss:0.68465\tvalidation_1-auc:0.84639\n",
      "[500]\tvalidation_0-logloss:0.38989\tvalidation_0-auc:0.90584\tvalidation_1-logloss:0.38886\tvalidation_1-auc:0.90390\n",
      "[1000]\tvalidation_0-logloss:0.37010\tvalidation_0-auc:0.91383\tvalidation_1-logloss:0.37186\tvalidation_1-auc:0.91006\n",
      "[1500]\tvalidation_0-logloss:0.36201\tvalidation_0-auc:0.91734\tvalidation_1-logloss:0.36591\tvalidation_1-auc:0.91207\n",
      "[2000]\tvalidation_0-logloss:0.35619\tvalidation_0-auc:0.92009\tvalidation_1-logloss:0.36209\tvalidation_1-auc:0.91341\n",
      "[2500]\tvalidation_0-logloss:0.35174\tvalidation_0-auc:0.92225\tvalidation_1-logloss:0.35916\tvalidation_1-auc:0.91458\n",
      "[2713]\tvalidation_0-logloss:0.35016\tvalidation_0-auc:0.92315\tvalidation_1-logloss:0.35833\tvalidation_1-auc:0.91493\n",
      "ROC score for Fold 5 Validation :0.9149262525115782 \n",
      "ROC score for Validation :0.9125530712635314 \n",
      "------------------------------------Fold6------------------------------------\n",
      "[0]\tvalidation_0-logloss:0.68470\tvalidation_0-auc:0.84591\tvalidation_1-logloss:0.68478\tvalidation_1-auc:0.84403\n",
      "[500]\tvalidation_0-logloss:0.39015\tvalidation_0-auc:0.90548\tvalidation_1-logloss:0.39430\tvalidation_1-auc:0.90310\n",
      "[1000]\tvalidation_0-logloss:0.37016\tvalidation_0-auc:0.91390\tvalidation_1-logloss:0.37633\tvalidation_1-auc:0.91022\n",
      "[1500]\tvalidation_0-logloss:0.36147\tvalidation_0-auc:0.91762\tvalidation_1-logloss:0.36999\tvalidation_1-auc:0.91220\n",
      "[2000]\tvalidation_0-logloss:0.35557\tvalidation_0-auc:0.92036\tvalidation_1-logloss:0.36588\tvalidation_1-auc:0.91363\n",
      "[2500]\tvalidation_0-logloss:0.35154\tvalidation_0-auc:0.92249\tvalidation_1-logloss:0.36348\tvalidation_1-auc:0.91453\n",
      "[2713]\tvalidation_0-logloss:0.35000\tvalidation_0-auc:0.92332\tvalidation_1-logloss:0.36262\tvalidation_1-auc:0.91482\n",
      "ROC score for Fold 6 Validation :0.9148156601046843 \n",
      "ROC score for Validation :0.9130450823531839 \n",
      "------------------------------------Fold7------------------------------------\n",
      "[0]\tvalidation_0-logloss:0.68471\tvalidation_0-auc:0.84595\tvalidation_1-logloss:0.68477\tvalidation_1-auc:0.84399\n",
      "[500]\tvalidation_0-logloss:0.39041\tvalidation_0-auc:0.90548\tvalidation_1-logloss:0.39122\tvalidation_1-auc:0.90489\n",
      "[1000]\tvalidation_0-logloss:0.36935\tvalidation_0-auc:0.91382\tvalidation_1-logloss:0.37195\tvalidation_1-auc:0.91194\n",
      "[1500]\tvalidation_0-logloss:0.36196\tvalidation_0-auc:0.91721\tvalidation_1-logloss:0.36634\tvalidation_1-auc:0.91389\n",
      "[2000]\tvalidation_0-logloss:0.35567\tvalidation_0-auc:0.92030\tvalidation_1-logloss:0.36204\tvalidation_1-auc:0.91536\n",
      "[2500]\tvalidation_0-logloss:0.35169\tvalidation_0-auc:0.92228\tvalidation_1-logloss:0.35969\tvalidation_1-auc:0.91602\n",
      "[2713]\tvalidation_0-logloss:0.35008\tvalidation_0-auc:0.92315\tvalidation_1-logloss:0.35887\tvalidation_1-auc:0.91624\n",
      "ROC score for Fold 7 Validation :0.9162381431939466 \n",
      "ROC score for Validation :0.9128010816152499 \n",
      "------------------------------------Fold8------------------------------------\n",
      "[0]\tvalidation_0-logloss:0.68471\tvalidation_0-auc:0.84593\tvalidation_1-logloss:0.68471\tvalidation_1-auc:0.84420\n",
      "[500]\tvalidation_0-logloss:0.39080\tvalidation_0-auc:0.90536\tvalidation_1-logloss:0.39212\tvalidation_1-auc:0.90410\n",
      "[1000]\tvalidation_0-logloss:0.36983\tvalidation_0-auc:0.91402\tvalidation_1-logloss:0.37359\tvalidation_1-auc:0.91102\n",
      "[1500]\tvalidation_0-logloss:0.36207\tvalidation_0-auc:0.91733\tvalidation_1-logloss:0.36785\tvalidation_1-auc:0.91297\n",
      "[2000]\tvalidation_0-logloss:0.35684\tvalidation_0-auc:0.91996\tvalidation_1-logloss:0.36443\tvalidation_1-auc:0.91431\n",
      "[2500]\tvalidation_0-logloss:0.35161\tvalidation_0-auc:0.92251\tvalidation_1-logloss:0.36114\tvalidation_1-auc:0.91552\n",
      "[2713]\tvalidation_0-logloss:0.35028\tvalidation_0-auc:0.92323\tvalidation_1-logloss:0.36043\tvalidation_1-auc:0.91580\n",
      "ROC score for Fold 8 Validation :0.9157953325517446 \n",
      "ROC score for Validation :0.9131346484556924 \n",
      "------------------------------------Fold9------------------------------------\n",
      "[0]\tvalidation_0-logloss:0.68470\tvalidation_0-auc:0.84554\tvalidation_1-logloss:0.68480\tvalidation_1-auc:0.84757\n",
      "[500]\tvalidation_0-logloss:0.39119\tvalidation_0-auc:0.90504\tvalidation_1-logloss:0.39599\tvalidation_1-auc:0.90451\n",
      "[1000]\tvalidation_0-logloss:0.37090\tvalidation_0-auc:0.91349\tvalidation_1-logloss:0.37727\tvalidation_1-auc:0.91199\n"
     ]
    },
    {
     "name": "stdout",
     "output_type": "stream",
     "text": [
      "[1500]\tvalidation_0-logloss:0.36325\tvalidation_0-auc:0.91681\tvalidation_1-logloss:0.37134\tvalidation_1-auc:0.91399\n",
      "[2000]\tvalidation_0-logloss:0.35700\tvalidation_0-auc:0.91979\tvalidation_1-logloss:0.36703\tvalidation_1-auc:0.91551\n",
      "[2500]\tvalidation_0-logloss:0.35253\tvalidation_0-auc:0.92205\tvalidation_1-logloss:0.36436\tvalidation_1-auc:0.91651\n",
      "[2713]\tvalidation_0-logloss:0.35064\tvalidation_0-auc:0.92302\tvalidation_1-logloss:0.36322\tvalidation_1-auc:0.91695\n",
      "ROC score for Fold 9 Validation :0.9169480744777319 \n",
      "ROC score for Validation :0.9129532534248785 \n",
      "------------------------------------Fold10------------------------------------\n",
      "[0]\tvalidation_0-logloss:0.68471\tvalidation_0-auc:0.84580\tvalidation_1-logloss:0.68471\tvalidation_1-auc:0.84505\n",
      "[500]\tvalidation_0-logloss:0.39043\tvalidation_0-auc:0.90569\tvalidation_1-logloss:0.39390\tvalidation_1-auc:0.90134\n",
      "[1000]\tvalidation_0-logloss:0.36980\tvalidation_0-auc:0.91417\tvalidation_1-logloss:0.37592\tvalidation_1-auc:0.90866\n",
      "[1500]\tvalidation_0-logloss:0.36153\tvalidation_0-auc:0.91754\tvalidation_1-logloss:0.36978\tvalidation_1-auc:0.91063\n",
      "[2000]\tvalidation_0-logloss:0.35566\tvalidation_0-auc:0.92030\tvalidation_1-logloss:0.36566\tvalidation_1-auc:0.91221\n",
      "[2500]\tvalidation_0-logloss:0.35142\tvalidation_0-auc:0.92248\tvalidation_1-logloss:0.36317\tvalidation_1-auc:0.91314\n",
      "[2713]\tvalidation_0-logloss:0.34983\tvalidation_0-auc:0.92331\tvalidation_1-logloss:0.36227\tvalidation_1-auc:0.91347\n",
      "ROC score for Fold 10 Validation :0.9134614288224507 \n",
      "ROC score for Validation :0.913403228074521 \n",
      "ROC for OOFs0.8093006037061354\n"
     ]
    }
   ],
   "source": [
    "params={'random_state':100,'objective':'binary:logistic','n_estimators':2714,'booster':'gbtree','eta':.0215,'min_child_weight':20,'colsample_bytree':.75,'scale_pos_weight':2.25,'reg_lambda':17.789,'max_depth':5}\n",
    "\n",
    "xclf=xgbc(**params)\n",
    "\n",
    "\n",
    "\n",
    "fit_params={'eval_metric':['logloss','auc'],'verbose':500}\n",
    "\n",
    "xgb_oofs,xgb_pred=run_gbm(clf=xclf,train=X,target=y,test=test,features=features,num_features=num_cols,fit_params=fit_params)"
   ]
  },
  {
   "cell_type": "code",
   "execution_count": null,
   "id": "92cd379f",
   "metadata": {},
   "outputs": [],
   "source": [
    "xgb_oofs=pd.DataFrame([xgb_oofs],index=['lgbm_oofs']).T\n",
    "xgb_pred=pd.DataFrame([xgb_pred],index=['xgb_pred']).T\n",
    "xgb_oofs.to_csv('xgb_oofs.csv',index=False)\n",
    "xgb_pred.to_csv('xgb_pred.csv',index=False)"
   ]
  },
  {
   "cell_type": "markdown",
   "id": "bd7f6058",
   "metadata": {},
   "source": [
    "## LGBM"
   ]
  },
  {
   "cell_type": "code",
   "execution_count": 29,
   "id": "d790cd3c",
   "metadata": {},
   "outputs": [
    {
     "name": "stdout",
     "output_type": "stream",
     "text": [
      "------------------------------------Fold1------------------------------------\n",
      "[500]\ttraining's binary_logloss: 0.363875\ttraining's auc: 0.89632\tvalid_1's binary_logloss: 0.364143\tvalid_1's auc: 0.895565\n",
      "[1000]\ttraining's binary_logloss: 0.346665\ttraining's auc: 0.903964\tvalid_1's binary_logloss: 0.34825\tvalid_1's auc: 0.902426\n",
      "[1500]\ttraining's binary_logloss: 0.339093\ttraining's auc: 0.907689\tvalid_1's binary_logloss: 0.341984\tvalid_1's auc: 0.905146\n",
      "[2000]\ttraining's binary_logloss: 0.334811\ttraining's auc: 0.909827\tvalid_1's binary_logloss: 0.338684\tvalid_1's auc: 0.906467\n",
      "[2500]\ttraining's binary_logloss: 0.331955\ttraining's auc: 0.911339\tvalid_1's binary_logloss: 0.336694\tvalid_1's auc: 0.907189\n",
      "[3000]\ttraining's binary_logloss: 0.329908\ttraining's auc: 0.912561\tvalid_1's binary_logloss: 0.335435\tvalid_1's auc: 0.907685\n",
      "[3500]\ttraining's binary_logloss: 0.328262\ttraining's auc: 0.913551\tvalid_1's binary_logloss: 0.334618\tvalid_1's auc: 0.907948\n",
      "[4000]\ttraining's binary_logloss: 0.326841\ttraining's auc: 0.914518\tvalid_1's binary_logloss: 0.334008\tvalid_1's auc: 0.908246\n",
      "ROC score for Fold 1 Validation :0.9083330868604393 \n",
      "ROC score for Validation :0.9056774041234 \n",
      "------------------------------------Fold2------------------------------------\n",
      "[500]\ttraining's binary_logloss: 0.363666\ttraining's auc: 0.896871\tvalid_1's binary_logloss: 0.362278\tvalid_1's auc: 0.895351\n",
      "[1000]\ttraining's binary_logloss: 0.346794\ttraining's auc: 0.904075\tvalid_1's binary_logloss: 0.34715\tvalid_1's auc: 0.901006\n",
      "[1500]\ttraining's binary_logloss: 0.339076\ttraining's auc: 0.907884\tvalid_1's binary_logloss: 0.340902\tvalid_1's auc: 0.903725\n",
      "[2000]\ttraining's binary_logloss: 0.334899\ttraining's auc: 0.909917\tvalid_1's binary_logloss: 0.337753\tvalid_1's auc: 0.905054\n",
      "[2500]\ttraining's binary_logloss: 0.33217\ttraining's auc: 0.911287\tvalid_1's binary_logloss: 0.335788\tvalid_1's auc: 0.905791\n",
      "[3000]\ttraining's binary_logloss: 0.330181\ttraining's auc: 0.912437\tvalid_1's binary_logloss: 0.334735\tvalid_1's auc: 0.906215\n",
      "[3500]\ttraining's binary_logloss: 0.328594\ttraining's auc: 0.913421\tvalid_1's binary_logloss: 0.333829\tvalid_1's auc: 0.906692\n",
      "[4000]\ttraining's binary_logloss: 0.327257\ttraining's auc: 0.914278\tvalid_1's binary_logloss: 0.333191\tvalid_1's auc: 0.90702\n",
      "ROC score for Fold 2 Validation :0.9071191800083085 \n",
      "ROC score for Validation :0.9054856238316582 \n",
      "------------------------------------Fold3------------------------------------\n",
      "[500]\ttraining's binary_logloss: 0.36358\ttraining's auc: 0.896706\tvalid_1's binary_logloss: 0.36843\tvalid_1's auc: 0.891821\n",
      "[1000]\ttraining's binary_logloss: 0.346638\ttraining's auc: 0.904067\tvalid_1's binary_logloss: 0.352771\tvalid_1's auc: 0.898394\n",
      "[1500]\ttraining's binary_logloss: 0.338646\ttraining's auc: 0.908156\tvalid_1's binary_logloss: 0.345966\tvalid_1's auc: 0.901697\n",
      "[2000]\ttraining's binary_logloss: 0.334201\ttraining's auc: 0.910427\tvalid_1's binary_logloss: 0.342616\tvalid_1's auc: 0.903225\n",
      "[2500]\ttraining's binary_logloss: 0.33148\ttraining's auc: 0.911851\tvalid_1's binary_logloss: 0.340886\tvalid_1's auc: 0.903859\n",
      "[3000]\ttraining's binary_logloss: 0.329406\ttraining's auc: 0.912997\tvalid_1's binary_logloss: 0.339741\tvalid_1's auc: 0.904354\n",
      "[3500]\ttraining's binary_logloss: 0.327803\ttraining's auc: 0.913963\tvalid_1's binary_logloss: 0.339033\tvalid_1's auc: 0.904683\n",
      "[4000]\ttraining's binary_logloss: 0.326464\ttraining's auc: 0.914799\tvalid_1's binary_logloss: 0.338481\tvalid_1's auc: 0.904926\n",
      "ROC score for Fold 3 Validation :0.9050127888026076 \n",
      "ROC score for Validation :0.905564373781667 \n",
      "------------------------------------Fold4------------------------------------\n",
      "[500]\ttraining's binary_logloss: 0.363836\ttraining's auc: 0.896626\tvalid_1's binary_logloss: 0.364073\tvalid_1's auc: 0.894698\n",
      "[1000]\ttraining's binary_logloss: 0.346962\ttraining's auc: 0.90391\tvalid_1's binary_logloss: 0.348311\tvalid_1's auc: 0.900913\n",
      "[1500]\ttraining's binary_logloss: 0.339662\ttraining's auc: 0.907345\tvalid_1's binary_logloss: 0.341911\tvalid_1's auc: 0.903699\n",
      "[2000]\ttraining's binary_logloss: 0.335336\ttraining's auc: 0.909592\tvalid_1's binary_logloss: 0.338418\tvalid_1's auc: 0.905302\n",
      "[2500]\ttraining's binary_logloss: 0.332497\ttraining's auc: 0.911043\tvalid_1's binary_logloss: 0.336311\tvalid_1's auc: 0.906224\n",
      "[3000]\ttraining's binary_logloss: 0.330418\ttraining's auc: 0.912244\tvalid_1's binary_logloss: 0.335085\tvalid_1's auc: 0.906762\n",
      "[3500]\ttraining's binary_logloss: 0.328862\ttraining's auc: 0.913178\tvalid_1's binary_logloss: 0.33427\tvalid_1's auc: 0.907135\n",
      "[4000]\ttraining's binary_logloss: 0.327518\ttraining's auc: 0.91402\tvalid_1's binary_logloss: 0.333638\tvalid_1's auc: 0.90747\n",
      "ROC score for Fold 4 Validation :0.9076164030294316 \n",
      "ROC score for Validation :0.9052231489401229 \n",
      "------------------------------------Fold5------------------------------------\n",
      "[500]\ttraining's binary_logloss: 0.363878\ttraining's auc: 0.896357\tvalid_1's binary_logloss: 0.366908\tvalid_1's auc: 0.893502\n",
      "[1000]\ttraining's binary_logloss: 0.346885\ttraining's auc: 0.903823\tvalid_1's binary_logloss: 0.351306\tvalid_1's auc: 0.900039\n",
      "[1500]\ttraining's binary_logloss: 0.339227\ttraining's auc: 0.907694\tvalid_1's binary_logloss: 0.344658\tvalid_1's auc: 0.903216\n",
      "[2000]\ttraining's binary_logloss: 0.335151\ttraining's auc: 0.909802\tvalid_1's binary_logloss: 0.341408\tvalid_1's auc: 0.90474\n",
      "[2500]\ttraining's binary_logloss: 0.332117\ttraining's auc: 0.911344\tvalid_1's binary_logloss: 0.33906\tvalid_1's auc: 0.905783\n",
      "[3000]\ttraining's binary_logloss: 0.330046\ttraining's auc: 0.912525\tvalid_1's binary_logloss: 0.337725\tvalid_1's auc: 0.906375\n",
      "[3500]\ttraining's binary_logloss: 0.328389\ttraining's auc: 0.913555\tvalid_1's binary_logloss: 0.336802\tvalid_1's auc: 0.906808\n",
      "[4000]\ttraining's binary_logloss: 0.327081\ttraining's auc: 0.914396\tvalid_1's binary_logloss: 0.336185\tvalid_1's auc: 0.907081\n",
      "ROC score for Fold 5 Validation :0.9071475023143042 \n",
      "ROC score for Validation :0.9054295305217014 \n",
      "------------------------------------Fold6------------------------------------\n",
      "[500]\ttraining's binary_logloss: 0.36392\ttraining's auc: 0.896469\tvalid_1's binary_logloss: 0.366376\tvalid_1's auc: 0.894477\n",
      "[1000]\ttraining's binary_logloss: 0.346873\ttraining's auc: 0.903841\tvalid_1's binary_logloss: 0.350352\tvalid_1's auc: 0.900787\n",
      "[1500]\ttraining's binary_logloss: 0.33923\ttraining's auc: 0.907617\tvalid_1's binary_logloss: 0.343594\tvalid_1's auc: 0.903856\n",
      "[2000]\ttraining's binary_logloss: 0.335008\ttraining's auc: 0.909826\tvalid_1's binary_logloss: 0.340171\tvalid_1's auc: 0.905471\n",
      "[2500]\ttraining's binary_logloss: 0.332304\ttraining's auc: 0.911276\tvalid_1's binary_logloss: 0.338283\tvalid_1's auc: 0.906339\n",
      "[3000]\ttraining's binary_logloss: 0.330368\ttraining's auc: 0.912348\tvalid_1's binary_logloss: 0.337111\tvalid_1's auc: 0.906804\n",
      "[3500]\ttraining's binary_logloss: 0.328839\ttraining's auc: 0.913268\tvalid_1's binary_logloss: 0.336421\tvalid_1's auc: 0.907057\n",
      "[4000]\ttraining's binary_logloss: 0.327567\ttraining's auc: 0.914069\tvalid_1's binary_logloss: 0.335832\tvalid_1's auc: 0.907323\n",
      "ROC score for Fold 6 Validation :0.9073945951394973 \n",
      "ROC score for Validation :0.9052526379207804 \n",
      "------------------------------------Fold7------------------------------------\n",
      "[500]\ttraining's binary_logloss: 0.364259\ttraining's auc: 0.896223\tvalid_1's binary_logloss: 0.364824\tvalid_1's auc: 0.89586\n",
      "[1000]\ttraining's binary_logloss: 0.347292\ttraining's auc: 0.90346\tvalid_1's binary_logloss: 0.348692\tvalid_1's auc: 0.902699\n",
      "[1500]\ttraining's binary_logloss: 0.339911\ttraining's auc: 0.907205\tvalid_1's binary_logloss: 0.342509\tvalid_1's auc: 0.905335\n",
      "[2000]\ttraining's binary_logloss: 0.335544\ttraining's auc: 0.909424\tvalid_1's binary_logloss: 0.3393\tvalid_1's auc: 0.906569\n",
      "[2500]\ttraining's binary_logloss: 0.332728\ttraining's auc: 0.910936\tvalid_1's binary_logloss: 0.337472\tvalid_1's auc: 0.907242\n",
      "[3000]\ttraining's binary_logloss: 0.330719\ttraining's auc: 0.912102\tvalid_1's binary_logloss: 0.336505\tvalid_1's auc: 0.907542\n",
      "[3500]\ttraining's binary_logloss: 0.329177\ttraining's auc: 0.913068\tvalid_1's binary_logloss: 0.335865\tvalid_1's auc: 0.907773\n",
      "[4000]\ttraining's binary_logloss: 0.327761\ttraining's auc: 0.913951\tvalid_1's binary_logloss: 0.335218\tvalid_1's auc: 0.908022\n"
     ]
    },
    {
     "name": "stdout",
     "output_type": "stream",
     "text": [
      "ROC score for Fold 7 Validation :0.9080807531783285 \n",
      "ROC score for Validation :0.9054524967844393 \n",
      "------------------------------------Fold8------------------------------------\n",
      "[500]\ttraining's binary_logloss: 0.363755\ttraining's auc: 0.896515\tvalid_1's binary_logloss: 0.364226\tvalid_1's auc: 0.895368\n",
      "[1000]\ttraining's binary_logloss: 0.346864\ttraining's auc: 0.903971\tvalid_1's binary_logloss: 0.348831\tvalid_1's auc: 0.901437\n",
      "[1500]\ttraining's binary_logloss: 0.339459\ttraining's auc: 0.907722\tvalid_1's binary_logloss: 0.342762\tvalid_1's auc: 0.904076\n",
      "[2000]\ttraining's binary_logloss: 0.335043\ttraining's auc: 0.909843\tvalid_1's binary_logloss: 0.339352\tvalid_1's auc: 0.905476\n",
      "[2500]\ttraining's binary_logloss: 0.332234\ttraining's auc: 0.911318\tvalid_1's binary_logloss: 0.337332\tvalid_1's auc: 0.906393\n",
      "[3000]\ttraining's binary_logloss: 0.330202\ttraining's auc: 0.912422\tvalid_1's binary_logloss: 0.336049\tvalid_1's auc: 0.906962\n",
      "[3500]\ttraining's binary_logloss: 0.328484\ttraining's auc: 0.913498\tvalid_1's binary_logloss: 0.335027\tvalid_1's auc: 0.907532\n",
      "[4000]\ttraining's binary_logloss: 0.327156\ttraining's auc: 0.914289\tvalid_1's binary_logloss: 0.334336\tvalid_1's auc: 0.907858\n",
      "ROC score for Fold 8 Validation :0.9080135527757346 \n",
      "ROC score for Validation :0.9059902314042549 \n",
      "------------------------------------Fold9------------------------------------\n",
      "[500]\ttraining's binary_logloss: 0.363507\ttraining's auc: 0.896646\tvalid_1's binary_logloss: 0.364232\tvalid_1's auc: 0.897408\n",
      "[1000]\ttraining's binary_logloss: 0.346979\ttraining's auc: 0.903602\tvalid_1's binary_logloss: 0.347541\tvalid_1's auc: 0.903879\n",
      "[1500]\ttraining's binary_logloss: 0.339242\ttraining's auc: 0.907605\tvalid_1's binary_logloss: 0.340288\tvalid_1's auc: 0.907169\n",
      "[2000]\ttraining's binary_logloss: 0.335145\ttraining's auc: 0.909743\tvalid_1's binary_logloss: 0.336784\tvalid_1's auc: 0.908627\n",
      "[2500]\ttraining's binary_logloss: 0.332324\ttraining's auc: 0.911176\tvalid_1's binary_logloss: 0.33456\tvalid_1's auc: 0.909469\n",
      "[3000]\ttraining's binary_logloss: 0.330189\ttraining's auc: 0.912381\tvalid_1's binary_logloss: 0.333123\tvalid_1's auc: 0.910017\n",
      "[3500]\ttraining's binary_logloss: 0.328548\ttraining's auc: 0.913345\tvalid_1's binary_logloss: 0.332216\tvalid_1's auc: 0.910362\n",
      "[4000]\ttraining's binary_logloss: 0.327028\ttraining's auc: 0.914326\tvalid_1's binary_logloss: 0.331464\tvalid_1's auc: 0.910711\n",
      "ROC score for Fold 9 Validation :0.9108264910659769 \n",
      "ROC score for Validation :0.9056982443103606 \n",
      "------------------------------------Fold10------------------------------------\n",
      "[500]\ttraining's binary_logloss: 0.36341\ttraining's auc: 0.896911\tvalid_1's binary_logloss: 0.365838\tvalid_1's auc: 0.893548\n",
      "[1000]\ttraining's binary_logloss: 0.346781\ttraining's auc: 0.903934\tvalid_1's binary_logloss: 0.350069\tvalid_1's auc: 0.900036\n",
      "[1500]\ttraining's binary_logloss: 0.339415\ttraining's auc: 0.907638\tvalid_1's binary_logloss: 0.34374\tvalid_1's auc: 0.902846\n",
      "[2000]\ttraining's binary_logloss: 0.335046\ttraining's auc: 0.909887\tvalid_1's binary_logloss: 0.340308\tvalid_1's auc: 0.904461\n",
      "[2500]\ttraining's binary_logloss: 0.331967\ttraining's auc: 0.9115\tvalid_1's binary_logloss: 0.338116\tvalid_1's auc: 0.905452\n",
      "[3000]\ttraining's binary_logloss: 0.330005\ttraining's auc: 0.912613\tvalid_1's binary_logloss: 0.336946\tvalid_1's auc: 0.906\n",
      "[3500]\ttraining's binary_logloss: 0.328435\ttraining's auc: 0.913566\tvalid_1's binary_logloss: 0.336078\tvalid_1's auc: 0.906411\n",
      "[4000]\ttraining's binary_logloss: 0.327097\ttraining's auc: 0.914397\tvalid_1's binary_logloss: 0.335382\tvalid_1's auc: 0.906777\n",
      "ROC score for Fold 10 Validation :0.9068853798384833 \n",
      "ROC score for Validation :0.9055983393903272 \n",
      "ROC for OOFs0.7771589327534192\n"
     ]
    }
   ],
   "source": [
    "params={'n_estimators':4209,'objective':'binary','metric':['logloss','auc'],'random_state':100,'learning_rate':.02,'min_child_samples':300,'max_bin':50,'colsample_bytree':.5,'max_depth':5,'num_leaves':127,'reg_lambda':22.54,'reg_alpha':10}\n",
    "model=LGBMClassifier(**params)\n",
    "fit_params={'eval_metric':['logloss','auc'],'verbose':500}\n",
    "\n",
    "lgbm_oofs,lgbm_pred=run_gbm(clf=model,train=X,target=y,test=test,features=features,num_features=num_cols,fit_params=fit_params)"
   ]
  },
  {
   "cell_type": "code",
   "execution_count": 30,
   "id": "4d3e2280",
   "metadata": {},
   "outputs": [],
   "source": [
    "lgbm_oofs=pd.DataFrame([lgbm_oofs],index=['lgbm_oofs']).T"
   ]
  },
  {
   "cell_type": "code",
   "execution_count": 31,
   "id": "03dc7e55",
   "metadata": {},
   "outputs": [],
   "source": [
    "lgbm_pred=pd.DataFrame([lgbm_pred],index=['lgbm_pred']).T"
   ]
  },
  {
   "cell_type": "code",
   "execution_count": 32,
   "id": "eb7f9d29",
   "metadata": {},
   "outputs": [],
   "source": [
    "lgbm_oofs.to_csv('lgbm_oofs.csv',index=False)\n",
    "lgbm_pred.to_csv('lgbm_pred.csv',index=False)"
   ]
  },
  {
   "cell_type": "markdown",
   "id": "0d7c04a3",
   "metadata": {},
   "source": [
    "## Final Prediction"
   ]
  },
  {
   "cell_type": "code",
   "execution_count": 43,
   "id": "5acb2712",
   "metadata": {},
   "outputs": [],
   "source": [
    "final_pred=(lgbm_pred['lgbm_pred']+xgb_pred['xgb_pred'])/2"
   ]
  },
  {
   "cell_type": "code",
   "execution_count": 44,
   "id": "e752ead3",
   "metadata": {},
   "outputs": [
    {
     "data": {
      "text/plain": [
       "0         0.000280\n",
       "1         0.653321\n",
       "2         0.000260\n",
       "3         0.000203\n",
       "4         0.000295\n",
       "            ...   \n",
       "105307    0.987700\n",
       "105308    0.630572\n",
       "105309    0.849447\n",
       "105310    0.412425\n",
       "105311    0.000517\n",
       "Length: 105312, dtype: float64"
      ]
     },
     "execution_count": 44,
     "metadata": {},
     "output_type": "execute_result"
    }
   ],
   "source": [
    "final_pred"
   ]
  },
  {
   "cell_type": "code",
   "execution_count": null,
   "id": "55cc27d6",
   "metadata": {},
   "outputs": [],
   "source": []
  }
 ],
 "metadata": {
  "kernelspec": {
   "display_name": "Python 3",
   "language": "python",
   "name": "python3"
  },
  "language_info": {
   "codemirror_mode": {
    "name": "ipython",
    "version": 3
   },
   "file_extension": ".py",
   "mimetype": "text/x-python",
   "name": "python",
   "nbconvert_exporter": "python",
   "pygments_lexer": "ipython3",
   "version": "3.8.8"
  }
 },
 "nbformat": 4,
 "nbformat_minor": 5
}
